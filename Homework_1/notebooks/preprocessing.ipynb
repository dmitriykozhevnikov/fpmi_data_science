{
 "cells": [
  {
   "cell_type": "markdown",
   "metadata": {},
   "source": [
    "## **МЕТОДЫ АНАЛИЗА ДАННЫХ И МАШИННОГО ОБУЧЕНИЯ**\n",
    "\n",
    "### ДОМАШНЕЕ ЗАДАНИЕ №1 : \"ПЕРЕБОР ПАРАМЕТРОВ АЛГОРИТМОВ\". ЧАСТЬ 2: ПОДГОТОВКА ДАННЫХ\n",
    "\n",
    "Кожевников Д.А. "
   ]
  },
  {
   "cell_type": "markdown",
   "metadata": {},
   "source": [
    "### **Импорт библиотек**"
   ]
  },
  {
   "cell_type": "code",
   "execution_count": 3,
   "metadata": {},
   "outputs": [],
   "source": [
    "import pandas as pd\n",
    "import numpy as np\n",
    "from sklearn.preprocessing import OneHotEncoder\n",
    "from sklearn.preprocessing import RobustScaler\n",
    "from sklearn.preprocessing import StandardScaler\n",
    "from sklearn.model_selection import train_test_split\n",
    "from pathlib import Path\n",
    "import warnings\n",
    "\n",
    "warnings.filterwarnings('ignore')"
   ]
  },
  {
   "cell_type": "markdown",
   "metadata": {},
   "source": [
    "### **Подготовка данных для анализа**"
   ]
  },
  {
   "cell_type": "code",
   "execution_count": 19,
   "metadata": {},
   "outputs": [],
   "source": [
    "def data_scaler_and_saver(data_path: str, scaler: object) -> None:\n",
    "    df = pd.read_csv(data_path)\n",
    "    X = df.drop(['output'], axis=1)\n",
    "    y = df[['output']]\n",
    "    scaler.fit(X)\n",
    "    X_train, X_test, y_train, y_test = train_test_split(X, y, test_size=0.2, random_state=11)\n",
    "    np.savetxt('../data/processed/X_train.csv', X_train, delimiter=',')\n",
    "    np.savetxt('../data/processed/X_test.csv', X_test, delimiter=',')\n",
    "    np.savetxt('../data/processed/y_train.csv', y_train, delimiter=',')\n",
    "    np.savetxt('../data/processed/y_test.csv', y_test, delimiter=',')\n",
    "    print('Данные обработаны и сохранены')"
   ]
  },
  {
   "cell_type": "code",
   "execution_count": 20,
   "metadata": {},
   "outputs": [
    {
     "name": "stdout",
     "output_type": "stream",
     "text": [
      "Данные обработаны и сохранены\n"
     ]
    }
   ],
   "source": [
    "data_scaler_and_saver(data_path='../data/intermediate/heart.csv', scaler=StandardScaler())"
   ]
  },
  {
   "cell_type": "markdown",
   "metadata": {},
   "source": []
  }
 ],
 "metadata": {
  "kernelspec": {
   "display_name": "fpmi-8H2boWJX-py3.10",
   "language": "python",
   "name": "python3"
  },
  "language_info": {
   "codemirror_mode": {
    "name": "ipython",
    "version": 3
   },
   "file_extension": ".py",
   "mimetype": "text/x-python",
   "name": "python",
   "nbconvert_exporter": "python",
   "pygments_lexer": "ipython3",
   "version": "3.10.12"
  }
 },
 "nbformat": 4,
 "nbformat_minor": 2
}
